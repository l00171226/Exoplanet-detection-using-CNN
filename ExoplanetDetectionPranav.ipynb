{
 "cells": [
  {
   "cell_type": "markdown",
   "metadata": {
    "id": "KzIF2wStSvTz"
   },
   "source": [
    "# **Library Import**"
   ]
  },
  {
   "cell_type": "code",
   "execution_count": 6,
   "metadata": {
    "colab": {
     "base_uri": "https://localhost:8080/"
    },
    "id": "6ZU_7Xg_EnPt",
    "outputId": "bf4b7478-eca4-4b87-c493-28b886ee686d"
   },
   "outputs": [
    {
     "name": "stdout",
     "output_type": "stream",
     "text": [
      "Collecting google-colab\n",
      "  Using cached google-colab-1.0.0.tar.gz (72 kB)\n",
      "  Preparing metadata (setup.py): started\n",
      "  Preparing metadata (setup.py): finished with status 'done'\n",
      "Collecting google-auth~=1.4.0 (from google-colab)\n",
      "  Using cached google_auth-1.4.2-py2.py3-none-any.whl (64 kB)\n",
      "Collecting ipykernel~=4.6.0 (from google-colab)\n",
      "  Using cached ipykernel-4.6.1-py3-none-any.whl (104 kB)\n",
      "Collecting ipython~=5.5.0 (from google-colab)\n",
      "  Using cached ipython-5.5.0-py3-none-any.whl (758 kB)\n",
      "Collecting notebook~=5.2.0 (from google-colab)\n",
      "  Using cached notebook-5.2.2-py2.py3-none-any.whl (8.0 MB)\n",
      "Collecting six~=1.12.0 (from google-colab)\n",
      "  Using cached six-1.12.0-py2.py3-none-any.whl (10 kB)\n",
      "Collecting pandas~=0.24.0 (from google-colab)\n",
      "  Using cached pandas-0.24.2.tar.gz (11.8 MB)\n",
      "  Preparing metadata (setup.py): started\n",
      "  Preparing metadata (setup.py): finished with status 'error'\n"
     ]
    },
    {
     "name": "stderr",
     "output_type": "stream",
     "text": [
      "  error: subprocess-exited-with-error\n",
      "  \n",
      "  python setup.py egg_info did not run successfully.\n",
      "  exit code: 1\n",
      "  \n",
      "  [13 lines of output]\n",
      "  C:\\Users\\ASUS\\anaconda3\\Lib\\site-packages\\setuptools\\__init__.py:84: _DeprecatedInstaller: setuptools.installer and fetch_build_eggs are deprecated.\n",
      "  !!\n",
      "  \n",
      "          ********************************************************************************\n",
      "          Requirements should be satisfied by a PEP 517 installer.\n",
      "          If you are using pip, you can try `pip install --use-pep517`.\n",
      "          ********************************************************************************\n",
      "  \n",
      "  !!\n",
      "    dist.fetch_build_eggs(dist.setup_requires)\n",
      "  error in pandas setup command: 'install_requires' must be a string or list of strings containing valid project/version requirement specifiers; Expected end or semicolon (after version specifier)\n",
      "      pytz >= 2011k\n",
      "           ~~~~~~~^\n",
      "  [end of output]\n",
      "  \n",
      "  note: This error originates from a subprocess, and is likely not a problem with pip.\n",
      "error: metadata-generation-failed\n",
      "\n",
      "Encountered error while generating package metadata.\n",
      "\n",
      "See above for output.\n",
      "\n",
      "note: This is an issue with the package mentioned above, not pip.\n",
      "hint: See above for details.\n"
     ]
    },
    {
     "ename": "ModuleNotFoundError",
     "evalue": "No module named 'google'",
     "output_type": "error",
     "traceback": [
      "\u001b[1;31m---------------------------------------------------------------------------\u001b[0m",
      "\u001b[1;31mModuleNotFoundError\u001b[0m                       Traceback (most recent call last)",
      "Cell \u001b[1;32mIn[6], line 2\u001b[0m\n\u001b[0;32m      1\u001b[0m get_ipython()\u001b[38;5;241m.\u001b[39msystem(\u001b[38;5;124m'\u001b[39m\u001b[38;5;124mpip install google-colab\u001b[39m\u001b[38;5;124m'\u001b[39m)\n\u001b[1;32m----> 2\u001b[0m \u001b[38;5;28;01mfrom\u001b[39;00m \u001b[38;5;21;01mgoogle\u001b[39;00m\u001b[38;5;21;01m.\u001b[39;00m\u001b[38;5;21;01mcolab\u001b[39;00m \u001b[38;5;28;01mimport\u001b[39;00m drive\n\u001b[0;32m      3\u001b[0m drive\u001b[38;5;241m.\u001b[39mmount(\u001b[38;5;124m'\u001b[39m\u001b[38;5;124m/content/drive\u001b[39m\u001b[38;5;124m'\u001b[39m)\n",
      "\u001b[1;31mModuleNotFoundError\u001b[0m: No module named 'google'"
     ]
    }
   ],
   "source": [
    "!pip install google-colab\n",
    "from google.colab import drive\n",
    "drive.mount('/content/drive')"
   ]
  },
  {
   "cell_type": "code",
   "execution_count": null,
   "metadata": {
    "id": "1pqemg10HSVU"
   },
   "outputs": [],
   "source": [
    "import glob, random\n",
    "import keras, os, sys\n",
    "import tensorflow as tf\n",
    "import cv2\n",
    "import matplotlib.pyplot as plt\n",
    "import matplotlib.image as mpimg\n",
    "import numpy as np\n",
    "import pandas as pd\n",
    "import imageio\n",
    "import warnings\n",
    "warnings.filterwarnings(\"ignore\")\n",
    "import matplotlib.pyplot as plt\n",
    "\n",
    "from PIL import Image\n",
    "\n",
    "from astropy.io import fits\n",
    "from astropy.visualization import astropy_mpl_style\n",
    "plt.style.use(astropy_mpl_style)\n",
    "from astropy.utils.data import get_pkg_data_filename\n",
    "\n",
    "\n",
    "\n",
    "from imblearn.over_sampling import SMOTE\n",
    "from collections import Counter\n",
    "from sklearn.decomposition import PCA\n",
    "from sklearn.preprocessing import StandardScaler\n",
    "from sklearn.preprocessing import LabelEncoder\n",
    "from sklearn.model_selection import train_test_split\n",
    "from sklearn.svm import SVC\n",
    "from sklearn.linear_model import LogisticRegression\n",
    "from sklearn.ensemble import RandomForestClassifier, StackingClassifier\n",
    "from sklearn.metrics import accuracy_score\n",
    "\n",
    "from sklearn.pipeline import make_pipeline\n",
    "\n",
    "\n",
    "from tensorflow.keras import backend as K\n",
    "from tensorflow.keras.preprocessing.image import ImageDataGenerator\n",
    "from tensorflow.keras.models import Sequential, Model\n",
    "from tensorflow.keras.layers import Conv1D, Conv2D, MaxPool2D, Dense, Flatten, Layer, Input, Dropout\n",
    "from tensorflow.python.util import deprecation\n",
    "deprecation._PRINT_DEPRECATION_WARNINGS = True\n",
    "from tensorflow.keras.initializers import glorot_uniform\n",
    "from tensorflow.keras import initializers, layers\n",
    "from tensorflow.keras.optimizers import Adam\n",
    "from tensorflow.keras.applications.vgg16 import VGG16\n",
    "from tensorflow.keras.applications.vgg19 import VGG19\n",
    "from tensorflow.keras.applications.vgg19 import preprocess_input\n",
    "from tensorflow.keras.applications.vgg16 import preprocess_input"
   ]
  },
  {
   "cell_type": "markdown",
   "metadata": {
    "id": "a2FWvXZV_q7s"
   },
   "source": [
    "# **Data Import**"
   ]
  },
  {
   "cell_type": "code",
   "execution_count": null,
   "metadata": {
    "colab": {
     "base_uri": "https://localhost:8080/"
    },
    "id": "ktriDET7WR8s",
    "outputId": "ab3da08f-acb1-4999-ebba-8bed4a3a576d"
   },
   "outputs": [],
   "source": [
    "exoTrain = glob.glob(\"/content/drive/MyDrive/exoplanet/Data/trainingData/ConfirmedExoplanets/*.png\")\n",
    "print (\"Total of %d  images.\" % len(exoTrain))\n",
    "print ('the filenames:\\n')\n",
    "print(\"\\n\".join(exoTrain[:5]))"
   ]
  },
  {
   "cell_type": "code",
   "execution_count": null,
   "metadata": {
    "colab": {
     "base_uri": "https://localhost:8080/"
    },
    "id": "K5FFSigiEhwL",
    "outputId": "66c1f018-7ac9-45ac-b4e0-cbd141690bb2"
   },
   "outputs": [],
   "source": [
    "epTest = glob.glob(\"/content/drive/MyDrive/exoplanet/Data/testingData/ConfirmedExoplanets/*.png\")\n",
    "print (\"Total of %d  images.\" % len(epTest))\n",
    "print ('the filenames:\\n')\n",
    "print(\"\\n\".join(epTest[:5]))"
   ]
  },
  {
   "cell_type": "code",
   "execution_count": null,
   "metadata": {
    "colab": {
     "base_uri": "https://localhost:8080/"
    },
    "id": "kPnX2mylWSgo",
    "outputId": "6df49e9c-df81-43f8-f1f1-a613de57d422"
   },
   "outputs": [],
   "source": [
    "fpTrain = glob.glob(\"/content/drive/MyDrive/exoplanet/Data/trainingData/FalsePositiveExoplanets/*.png\")\n",
    "print (\"Total of %d  images.\" % len(fpTrain))\n",
    "print ('the filenames:\\n')\n",
    "print(\"\\n\".join(fpTrain[:5]))"
   ]
  },
  {
   "cell_type": "code",
   "execution_count": null,
   "metadata": {
    "colab": {
     "base_uri": "https://localhost:8080/"
    },
    "id": "xwyd27JTEhwd",
    "outputId": "0bb525cd-5653-4b1c-d0cf-9aa08dc68ef5"
   },
   "outputs": [],
   "source": [
    "fpTest = glob.glob(\"/content/drive/MyDrive/exoplanet/Data/testingData/FalsePositiveExoplanets/*.png\")\n",
    "print (\"Total of %d  images.\" % len(fpTest))\n",
    "print ('the filenames:\\n')\n",
    "print(\"\\n\".join(fpTest[:5]))"
   ]
  },
  {
   "cell_type": "code",
   "execution_count": null,
   "metadata": {
    "colab": {
     "base_uri": "https://localhost:8080/",
     "height": 0
    },
    "id": "o--DaTZGEhwf",
    "outputId": "f62fd270-b0c5-4397-86a3-634256517c79"
   },
   "outputs": [],
   "source": [
    "kepler = pd.read_csv('/content/drive/MyDrive/exoplanet/keplerData.csv', skiprows=144)\n",
    "kepler.head()"
   ]
  },
  {
   "cell_type": "code",
   "execution_count": null,
   "metadata": {
    "colab": {
     "base_uri": "https://localhost:8080/",
     "height": 0
    },
    "id": "GhRjsoLSEhwg",
    "outputId": "56c145e0-645c-41c4-bbad-a8685230c0c0"
   },
   "outputs": [],
   "source": [
    "kepler = kepler.drop(['rowid'],1).reset_index(drop=True)\n",
    "kepler.head()"
   ]
  },
  {
   "cell_type": "markdown",
   "metadata": {
    "id": "f_8rW31DVE5u"
   },
   "source": [
    "# **Data Processing**"
   ]
  },
  {
   "cell_type": "code",
   "execution_count": null,
   "metadata": {
    "id": "R-vnx2MNVLr3"
   },
   "outputs": [],
   "source": [
    "TRAIN_DIR = '/content/drive/MyDrive/exoplanet/Data/trainingData/'\n",
    "TEST_DIR = '/content/drive/MyDrive/exoplanet/Data/testingData/'\n",
    "CATEGORIES = ['ConfirmedExoplanets','FalsePositiveExoplanets']\n",
    "IMG_SIZE=100\n",
    "scores= []"
   ]
  },
  {
   "cell_type": "code",
   "execution_count": null,
   "metadata": {
    "colab": {
     "base_uri": "https://localhost:8080/"
    },
    "id": "EXQTwhvHEhxE",
    "outputId": "8b662a83-5c24-484f-99b3-e0f8bd554fc3"
   },
   "outputs": [],
   "source": [
    "kepler.info()"
   ]
  },
  {
   "cell_type": "code",
   "execution_count": null,
   "metadata": {
    "colab": {
     "base_uri": "https://localhost:8080/",
     "height": 0
    },
    "id": "KhS6fvg_EhxF",
    "outputId": "4df1a3b8-825c-4a03-9b4b-d383cc7f2b0c"
   },
   "outputs": [],
   "source": [
    "pd.DataFrame(round((kepler.isnull().sum() * 100/ len(kepler)),2).sort_values(ascending=False)).head(30)"
   ]
  },
  {
   "cell_type": "code",
   "execution_count": null,
   "metadata": {
    "colab": {
     "base_uri": "https://localhost:8080/",
     "height": 0
    },
    "id": "XiCsE6IVEhxG",
    "outputId": "45e59057-0d30-4701-a6eb-e4dce9c4e816"
   },
   "outputs": [],
   "source": [
    "classes=kepler.koi_disposition.unique()\n",
    "counts = kepler.koi_disposition.value_counts().to_list()\n",
    "plt.bar(classes,counts)\n",
    "print(kepler.koi_disposition.value_counts())"
   ]
  },
  {
   "cell_type": "code",
   "execution_count": null,
   "metadata": {
    "colab": {
     "base_uri": "https://localhost:8080/"
    },
    "id": "uY92ILXrEhxL",
    "outputId": "dad86d1b-c750-4faf-8ffb-a74aacaab8f1"
   },
   "outputs": [],
   "source": [
    "# Dropping rows with more than 80% data missing\n",
    "kepler = kepler.dropna(thresh=len(kepler) * .80, axis=1)\n",
    "kepler.info()"
   ]
  },
  {
   "cell_type": "code",
   "execution_count": null,
   "metadata": {
    "colab": {
     "base_uri": "https://localhost:8080/"
    },
    "id": "zraFlNYuEhxM",
    "outputId": "f7acf380-642f-4fd0-e6b4-76275d2d1561"
   },
   "outputs": [],
   "source": [
    "for column in kepler.columns:\n",
    "    print(column)\n",
    "    print(kepler[column].unique())"
   ]
  },
  {
   "cell_type": "code",
   "execution_count": null,
   "metadata": {
    "id": "L5IPcPuKEhxM"
   },
   "outputs": [],
   "source": [
    "kepler.drop(['kepid','kepoi_name','koi_vet_stat','koi_vet_date','koi_disp_prov','koi_pdisposition','koi_datalink_dvr',\n",
    "                      'koi_parm_prov','koi_tce_delivname'], inplace=True, axis=1)"
   ]
  },
  {
   "cell_type": "code",
   "execution_count": null,
   "metadata": {
    "colab": {
     "base_uri": "https://localhost:8080/"
    },
    "id": "t5gHRIOLEhxN",
    "outputId": "b408718d-194b-433a-e582-16517968a0b7"
   },
   "outputs": [],
   "source": [
    "kepler.dropna(inplace=True)\n",
    "kepler.info()"
   ]
  },
  {
   "cell_type": "markdown",
   "metadata": {
    "id": "5as6g5sgEhxN"
   },
   "source": [
    "# Label encoding"
   ]
  },
  {
   "cell_type": "code",
   "execution_count": null,
   "metadata": {
    "id": "KbFXyToqEhxN"
   },
   "outputs": [],
   "source": [
    "le = LabelEncoder()"
   ]
  },
  {
   "cell_type": "code",
   "execution_count": null,
   "metadata": {
    "id": "VHUm2DT8EhxO"
   },
   "outputs": [],
   "source": [
    "kepler['koi_disposition'] = le.fit_transform(kepler['koi_disposition'])"
   ]
  },
  {
   "cell_type": "code",
   "execution_count": null,
   "metadata": {
    "id": "V_S4aa2gEhxO"
   },
   "outputs": [],
   "source": [
    "keplerX= kepler.drop(['koi_disposition'],axis=1)\n",
    "keplerY = kepler['koi_disposition']"
   ]
  },
  {
   "cell_type": "markdown",
   "metadata": {
    "id": "nIWcv3Vp9L-b"
   },
   "source": [
    "# Dimension Reduction"
   ]
  },
  {
   "cell_type": "code",
   "execution_count": null,
   "metadata": {
    "id": "kv8aIkYeOra9"
   },
   "outputs": [],
   "source": [
    "pca = PCA(n_components=10)"
   ]
  },
  {
   "cell_type": "code",
   "execution_count": null,
   "metadata": {
    "colab": {
     "base_uri": "https://localhost:8080/"
    },
    "id": "sN1VfZxJOy2w",
    "outputId": "457b2143-fb94-45ff-8556-1ad65325bec0"
   },
   "outputs": [],
   "source": [
    "# fit and transform data\n",
    "keplerX = pca.fit_transform(keplerX)\n",
    "keplerX.shape"
   ]
  },
  {
   "cell_type": "code",
   "execution_count": null,
   "metadata": {
    "colab": {
     "base_uri": "https://localhost:8080/"
    },
    "id": "l1MFuZggEhxR",
    "outputId": "5f528b4e-d107-4af9-c8f2-612ea82e355f"
   },
   "outputs": [],
   "source": [
    "sc = StandardScaler()\n",
    "keplerX = sc.fit_transform(keplerX)\n",
    "keplerX.shape"
   ]
  },
  {
   "cell_type": "markdown",
   "metadata": {
    "id": "7ERzz0BZEhxR"
   },
   "source": [
    "# Class Balancing"
   ]
  },
  {
   "cell_type": "code",
   "execution_count": null,
   "metadata": {
    "id": "AG2pxS6zEhxX"
   },
   "outputs": [],
   "source": [
    "oversample = SMOTE()\n",
    "keplerX, keplerY = oversample.fit_resample(keplerX, keplerY)"
   ]
  },
  {
   "cell_type": "code",
   "execution_count": null,
   "metadata": {
    "colab": {
     "base_uri": "https://localhost:8080/",
     "height": 0
    },
    "id": "VkhpcUDkEhxy",
    "outputId": "320a3f18-7081-4df5-8fec-9dc1c5b0330e"
   },
   "outputs": [],
   "source": [
    "counter = Counter(keplerY)\n",
    "for k,v in counter.items():\n",
    "    per = v / len(keplerY) * 100\n",
    "    print('Class=%d, n=%d (%.3f%%)' % (k, v, per))\n",
    "plt.bar(counter.keys(), counter.values())\n",
    "plt.show()"
   ]
  },
  {
   "cell_type": "markdown",
   "metadata": {
    "id": "0Zq3TN-UEhxz"
   },
   "source": [
    "# Astropy"
   ]
  },
  {
   "cell_type": "code",
   "execution_count": null,
   "metadata": {
    "colab": {
     "base_uri": "https://localhost:8080/",
     "height": 0
    },
    "id": "jd7H7ApuEhxz",
    "outputId": "56c9031f-89ca-42df-9529-1aab0e416f91"
   },
   "outputs": [],
   "source": [
    "_, axs = plt.subplots(3, 5, figsize=(12, 12))\n",
    "axs = axs.flatten()\n",
    "for img, ax in zip(exoTrain, axs):\n",
    "    image = Image.open(img)\n",
    "    ax.imshow(image)\n",
    "plt.show()"
   ]
  },
  {
   "cell_type": "code",
   "execution_count": null,
   "metadata": {
    "colab": {
     "base_uri": "https://localhost:8080/",
     "height": 0
    },
    "id": "IMTtpkfvEhx0",
    "outputId": "62eac5ec-8c24-4f49-d062-de212b023300"
   },
   "outputs": [],
   "source": [
    "_, axs = plt.subplots(3, 5, figsize=(12, 12))\n",
    "axs = axs.flatten()\n",
    "for img, ax in zip(fpTrain, axs):\n",
    "    image = Image.open(img)\n",
    "    ax.imshow(image)\n",
    "plt.show()"
   ]
  },
  {
   "cell_type": "code",
   "execution_count": null,
   "metadata": {
    "colab": {
     "base_uri": "https://localhost:8080/",
     "height": 0
    },
    "id": "7jtt1H6fEhx1",
    "outputId": "083ca5a1-02d9-4542-c2bf-9268cb0514b2"
   },
   "outputs": [],
   "source": [
    "_, axs = plt.subplots(1, 4, figsize=(12, 12))\n",
    "axs = axs.flatten()\n",
    "for img, ax in zip(epTest, axs):\n",
    "    image = Image.open(img)\n",
    "    ax.imshow(image)\n",
    "plt.show()"
   ]
  },
  {
   "cell_type": "code",
   "execution_count": null,
   "metadata": {
    "colab": {
     "base_uri": "https://localhost:8080/",
     "height": 0
    },
    "id": "zwUvIaFuEhx1",
    "outputId": "10998fa5-9ab3-433b-93a1-d0fe01bca13e"
   },
   "outputs": [],
   "source": [
    "_, axs = plt.subplots(1, 3, figsize=(12, 12))\n",
    "axs = axs.flatten()\n",
    "for img, ax in zip(fpTest, axs):\n",
    "    image = Image.open(img)\n",
    "    ax.imshow(image)\n",
    "plt.show()"
   ]
  },
  {
   "cell_type": "code",
   "execution_count": null,
   "metadata": {
    "colab": {
     "base_uri": "https://localhost:8080/"
    },
    "id": "DO4joLUOEhx2",
    "outputId": "576acb67-c38b-4ac9-9a0b-b8aef667a6e2"
   },
   "outputs": [],
   "source": [
    "confirmedExoFits = glob.glob(\"/content/drive/MyDrive/exoplanet/rawdata/confirmedExoplanets/010874614/*.fits\")\n",
    "print (\"Total of %d  images.\" % len(confirmedExoFits))\n",
    "print ('the filenames:\\n')\n",
    "print(\"\\n\".join(confirmedExoFits[:5]))"
   ]
  },
  {
   "cell_type": "code",
   "execution_count": null,
   "metadata": {
    "colab": {
     "base_uri": "https://localhost:8080/"
    },
    "id": "fz9H3M-KEhx2",
    "outputId": "4bebd44d-cd50-4736-d5d6-1092b845f52f"
   },
   "outputs": [],
   "source": [
    "fpExoFits = glob.glob(\"/content/drive/MyDrive/exoplanet/rawdata/falsePositiveExoplanets/000892772/*.fits\")\n",
    "print (\"Total of %d  images.\" % len(fpExoFits))\n",
    "print ('the filenames:\\n')\n",
    "print(\"\\n\".join(fpExoFits[:5]))"
   ]
  },
  {
   "cell_type": "code",
   "execution_count": null,
   "metadata": {
    "colab": {
     "base_uri": "https://localhost:8080/"
    },
    "id": "gX8YJk7tEhx3",
    "outputId": "5f83f8c7-3c6f-4f95-af75-a31884eae288"
   },
   "outputs": [],
   "source": [
    "for file in confirmedExoFits:\n",
    "    hdul = fits.open(file)\n",
    "    hdul.info()"
   ]
  },
  {
   "cell_type": "code",
   "execution_count": null,
   "metadata": {
    "colab": {
     "base_uri": "https://localhost:8080/"
    },
    "id": "oK6KKO5AEhx4",
    "outputId": "9358992c-2623-4caf-f0d2-ad5ffa1a4d19"
   },
   "outputs": [],
   "source": [
    "for file in fpExoFits:\n",
    "    hdul = fits.open(file)\n",
    "    hdul.info()"
   ]
  },
  {
   "cell_type": "markdown",
   "metadata": {
    "id": "G8yI-fQdyQGY"
   },
   "source": [
    "# **Data Augmentation**"
   ]
  },
  {
   "cell_type": "code",
   "execution_count": null,
   "metadata": {
    "colab": {
     "base_uri": "https://localhost:8080/"
    },
    "id": "hD-JlOtkxCdZ",
    "outputId": "36be175a-5ccc-40b6-a4b4-84006a472f57"
   },
   "outputs": [],
   "source": [
    "gen = ImageDataGenerator(rescale=1./255)\n",
    "train = gen.flow_from_directory(directory=TRAIN_DIR, target_size=(224,224))"
   ]
  },
  {
   "cell_type": "code",
   "execution_count": null,
   "metadata": {
    "colab": {
     "base_uri": "https://localhost:8080/",
     "height": 0
    },
    "id": "ATyyZd2f_1dh",
    "outputId": "3793a8fe-2d79-414c-8f9c-4713bb305b44"
   },
   "outputs": [],
   "source": [
    "# This function will plot images in the form of a grid with 1 row and 5 columns where images are placed in each column.\n",
    "def plotImages(images_arr):\n",
    "    fig, axes = plt.subplots(1, 5, figsize=(20,20))\n",
    "    axes = axes.flatten()\n",
    "    for img, ax in zip( images_arr, axes):\n",
    "        ax.imshow(img)\n",
    "    plt.tight_layout()\n",
    "    plt.show()\n",
    "\n",
    "\n",
    "augmented_images = [train[0][0][0] for i in range(5)]\n",
    "plotImages(augmented_images)"
   ]
  },
  {
   "cell_type": "code",
   "execution_count": null,
   "metadata": {
    "colab": {
     "base_uri": "https://localhost:8080/"
    },
    "id": "rDXiATxa3pok",
    "outputId": "f7d3e24f-ce01-4fcb-9eeb-1a4a13611aba"
   },
   "outputs": [],
   "source": [
    "gen = ImageDataGenerator(rescale=1./255)\n",
    "test = gen.flow_from_directory(directory=TEST_DIR, target_size=(224,224))"
   ]
  },
  {
   "cell_type": "code",
   "execution_count": null,
   "metadata": {
    "colab": {
     "base_uri": "https://localhost:8080/",
     "height": 0
    },
    "id": "PLYz5b92Bq9s",
    "outputId": "779b0cf8-fdc3-4294-d627-67f1eaa8c7be"
   },
   "outputs": [],
   "source": [
    "# This function will plot images in the form of a grid with 1 row and 5 columns where images are placed in each column.\n",
    "def plotImages(images_arr):\n",
    "    fig, axes = plt.subplots(1, 5, figsize=(20,20))\n",
    "    axes = axes.flatten()\n",
    "    for img, ax in zip( images_arr, axes):\n",
    "        ax.imshow(img)\n",
    "    plt.tight_layout()\n",
    "    plt.show()\n",
    "\n",
    "\n",
    "augmented_images = [test[0][0][0] for i in range(5)]\n",
    "plotImages(augmented_images)"
   ]
  },
  {
   "cell_type": "code",
   "execution_count": null,
   "metadata": {
    "colab": {
     "base_uri": "https://localhost:8080/"
    },
    "id": "RTvZXFW9_tCA",
    "outputId": "09b15293-656d-4c05-d973-7a8634012001"
   },
   "outputs": [],
   "source": [
    "gen = ImageDataGenerator()\n",
    "train = gen.flow_from_directory(directory=TRAIN_DIR, target_size=(224,224))\n",
    "test = gen.flow_from_directory(directory=TEST_DIR, target_size=(224,224))"
   ]
  },
  {
   "cell_type": "code",
   "execution_count": null,
   "metadata": {
    "id": "1HYobVTSEhx-"
   },
   "outputs": [],
   "source": [
    "modelScores=pd.DataFrame()"
   ]
  },
  {
   "cell_type": "markdown",
   "metadata": {
    "id": "axsp8vw2-DC4"
   },
   "source": [
    "# **CNN**"
   ]
  },
  {
   "cell_type": "code",
   "execution_count": null,
   "metadata": {
    "colab": {
     "base_uri": "https://localhost:8080/"
    },
    "id": "VIwSqZiS-nLZ",
    "outputId": "2ebd89b3-ad3c-43e8-ec94-ad9f5bbe1852",
    "scrolled": true
   },
   "outputs": [],
   "source": [
    "cnnmodel = Sequential()\n",
    "cnnmodel.add(Conv2D(input_shape = (224, 224, 3), filters = 64, kernel_size = (3,3), padding = \"same\", activation = \"relu\"))\n",
    "cnnmodel.add(Conv2D(filters = 64, kernel_size = (3,3), padding = \"same\", activation = \"relu\"))\n",
    "cnnmodel.add(MaxPool2D(pool_size = (2,2), strides = (2,2)))\n",
    "cnnmodel.add(Flatten())\n",
    "cnnmodel.add(Dense(units = 2, activation = \"sigmoid\"))\n",
    "opt = Adam(learning_rate = 0.001)\n",
    "cnnmodel.compile(optimizer = opt, loss= keras.losses.categorical_crossentropy,   metrics = ['accuracy'])\n",
    "cnnmodel.summary()"
   ]
  },
  {
   "cell_type": "code",
   "execution_count": null,
   "metadata": {
    "colab": {
     "base_uri": "https://localhost:8080/"
    },
    "id": "eWEXRmYM_RZP",
    "outputId": "879883a9-63c6-4cc6-f7bb-a8b6263b3e1c"
   },
   "outputs": [],
   "source": [
    "history = cnnmodel.fit(train, validation_data= test, epochs=5)"
   ]
  },
  {
   "cell_type": "code",
   "execution_count": null,
   "metadata": {
    "colab": {
     "base_uri": "https://localhost:8080/",
     "height": 0
    },
    "id": "q7QlHCQWv9ss",
    "outputId": "9f42ccc2-c439-48f4-a340-3d15b76c5c5e"
   },
   "outputs": [],
   "source": [
    "# summarize history for accuracy\n",
    "plt.plot(history.history['accuracy'])\n",
    "plt.plot(history.history['val_accuracy'])\n",
    "plt.title('model accuracy')\n",
    "plt.ylabel('accuracy')\n",
    "plt.xlabel('epoch')\n",
    "plt.legend(['train', 'test'], loc='upper left')\n",
    "plt.show()"
   ]
  },
  {
   "cell_type": "code",
   "execution_count": null,
   "metadata": {
    "colab": {
     "base_uri": "https://localhost:8080/",
     "height": 0
    },
    "id": "qpB3wiDi_Y9g",
    "outputId": "c3e4ceb5-6b66-4bfd-92c6-4834dbc0dc11"
   },
   "outputs": [],
   "source": [
    "# summarize history for loss\n",
    "plt.plot(history.history['loss'])\n",
    "plt.plot(history.history['val_loss'])\n",
    "plt.title('model loss')\n",
    "plt.ylabel('loss')\n",
    "plt.xlabel('epoch')\n",
    "plt.legend(['train', 'test'], loc='upper left')\n",
    "plt.show()"
   ]
  },
  {
   "cell_type": "code",
   "execution_count": null,
   "metadata": {
    "colab": {
     "base_uri": "https://localhost:8080/"
    },
    "id": "9hb3avYX-OBY",
    "outputId": "05b603d5-8c53-4a00-bc94-b51698a1c8dd"
   },
   "outputs": [],
   "source": [
    "loss, accuracy = cnnmodel.evaluate(test, verbose=2)\n",
    "print(\"Loss = \", loss)\n",
    "accuracy= accuracy*100\n",
    "print(\"Accuracy = \", accuracy)"
   ]
  },
  {
   "cell_type": "code",
   "execution_count": null,
   "metadata": {
    "colab": {
     "base_uri": "https://localhost:8080/",
     "height": 0
    },
    "id": "9ZkYyFzuEhyC",
    "outputId": "3182eee6-c245-456e-d519-dd12c4f34ddd"
   },
   "outputs": [],
   "source": [
    "modelScores=modelScores.append([['CNN Image', accuracy]])\n",
    "modelScores"
   ]
  },
  {
   "cell_type": "markdown",
   "metadata": {
    "id": "Qh2TTL70EhyD"
   },
   "source": [
    "# VGG16"
   ]
  },
  {
   "cell_type": "code",
   "execution_count": null,
   "metadata": {
    "colab": {
     "base_uri": "https://localhost:8080/"
    },
    "id": "cvshNKb5EhyD",
    "outputId": "1c2f64fc-7fca-459c-a44f-2d1e41e6fe27"
   },
   "outputs": [],
   "source": [
    "model = VGG16(include_top=False,  weights='imagenet',  input_shape=(224, 224, 3))\n",
    "print(model.summary())"
   ]
  },
  {
   "cell_type": "code",
   "execution_count": null,
   "metadata": {
    "id": "ZJc8k67zEhyE"
   },
   "outputs": [],
   "source": [
    "vgg16 = model.output\n",
    "vgg16 = Flatten()(vgg16)\n",
    "vgg16 = Dense(4096, activation='relu')(vgg16)\n",
    "vgg16 = Dense(1072, activation='relu')(vgg16)\n",
    "vgg16 = Dropout(0.2)(vgg16)\n",
    "output_layer = Dense(2, activation='softmax')(vgg16)\n",
    "model = Model(inputs=model.input, outputs=output_layer)\n",
    "opt = Adam(learning_rate = 0.001)\n",
    "\n",
    "model.compile(optimizer = opt, loss= keras.losses.categorical_crossentropy,   metrics = ['accuracy'])"
   ]
  },
  {
   "cell_type": "code",
   "execution_count": null,
   "metadata": {
    "colab": {
     "base_uri": "https://localhost:8080/"
    },
    "id": "1wptDhm3EhyF",
    "outputId": "89da73dd-f2f2-48e7-d0aa-61f9b63e1185"
   },
   "outputs": [],
   "source": [
    "history = model.fit(train, validation_data= test, epochs=5)"
   ]
  },
  {
   "cell_type": "code",
   "execution_count": null,
   "metadata": {
    "colab": {
     "base_uri": "https://localhost:8080/",
     "height": 0
    },
    "id": "lEbtWUeaEhyF",
    "outputId": "934a2107-b777-4c39-a241-b83374b57b14"
   },
   "outputs": [],
   "source": [
    "# summarize history for accuracy\n",
    "plt.plot(history.history['accuracy'])\n",
    "plt.plot(history.history['val_accuracy'])\n",
    "plt.title('model accuracy')\n",
    "plt.ylabel('accuracy')\n",
    "plt.xlabel('epoch')\n",
    "plt.legend(['train', 'test'], loc='upper left')\n",
    "plt.show()"
   ]
  },
  {
   "cell_type": "code",
   "execution_count": null,
   "metadata": {
    "colab": {
     "base_uri": "https://localhost:8080/",
     "height": 0
    },
    "id": "41AWMdlREhyG",
    "outputId": "41e2112a-b212-4b09-cd85-959181a0c490"
   },
   "outputs": [],
   "source": [
    "# summarize history for loss\n",
    "plt.plot(history.history['loss'])\n",
    "plt.plot(history.history['val_loss'])\n",
    "plt.title('model loss')\n",
    "plt.ylabel('loss')\n",
    "plt.xlabel('epoch')\n",
    "plt.legend(['train', 'test'], loc='upper left')\n",
    "plt.show()"
   ]
  },
  {
   "cell_type": "code",
   "execution_count": null,
   "metadata": {
    "colab": {
     "base_uri": "https://localhost:8080/"
    },
    "id": "JIDI9ewuEhyG",
    "outputId": "ea9cc6f7-0e0c-4615-b024-1e44ef4c2a1f"
   },
   "outputs": [],
   "source": [
    "loss, accuracy = model.evaluate(test, verbose=2)\n",
    "print(\"Loss = \", loss)\n",
    "accuracy= accuracy*100\n",
    "print(\"Accuracy = \", accuracy)"
   ]
  },
  {
   "cell_type": "code",
   "execution_count": null,
   "metadata": {
    "colab": {
     "base_uri": "https://localhost:8080/",
     "height": 0
    },
    "id": "aPdK4Kd3EhyH",
    "outputId": "4dd1d945-1b56-4a9c-be85-22c3cc4fb8f7"
   },
   "outputs": [],
   "source": [
    "modelScores=modelScores.append([['VGG16 Image', accuracy]])\n",
    "modelScores"
   ]
  },
  {
   "cell_type": "markdown",
   "metadata": {
    "id": "mN-zryTZEhyH"
   },
   "source": [
    "# VGG19"
   ]
  },
  {
   "cell_type": "code",
   "execution_count": null,
   "metadata": {
    "colab": {
     "base_uri": "https://localhost:8080/"
    },
    "id": "8NOyXB3DEhyI",
    "outputId": "9d0a2813-c8db-4964-cc4e-7237677691ce"
   },
   "outputs": [],
   "source": [
    "model = VGG19(include_top=False,  weights='imagenet',  input_shape=(224, 224, 3))\n",
    "print(model.summary())"
   ]
  },
  {
   "cell_type": "code",
   "execution_count": null,
   "metadata": {
    "id": "at4mifAtEhya"
   },
   "outputs": [],
   "source": [
    "vgg19 = model.output\n",
    "vgg19 = Flatten()(vgg19)\n",
    "vgg19 = Dense(1032, activation='relu')(vgg19)\n",
    "vgg19 = Dropout(0.2)(vgg19)\n",
    "output_layer = Dense(2, activation='softmax')(vgg19)\n",
    "model = Model(inputs=model.input, outputs=output_layer)\n",
    "opt = Adam(learning_rate = 0.001)\n",
    "\n",
    "model.compile(optimizer = opt, loss= keras.losses.categorical_crossentropy,   metrics = ['accuracy'])"
   ]
  },
  {
   "cell_type": "code",
   "execution_count": null,
   "metadata": {
    "colab": {
     "base_uri": "https://localhost:8080/"
    },
    "id": "0qu1RuMsEhya",
    "outputId": "8813d14c-7421-473c-8a73-93e7346a1a46"
   },
   "outputs": [],
   "source": [
    "history = model.fit(train,steps_per_epoch=10, validation_data= test, validation_steps=5, epochs=5)"
   ]
  },
  {
   "cell_type": "code",
   "execution_count": null,
   "metadata": {
    "colab": {
     "base_uri": "https://localhost:8080/",
     "height": 0
    },
    "id": "SBEDXv4yEhyb",
    "outputId": "4eabf0a8-ac57-4d3f-f011-82a870fc5bdd"
   },
   "outputs": [],
   "source": [
    "# summarize history for accuracy\n",
    "plt.plot(history.history['accuracy'])\n",
    "plt.plot(history.history['val_accuracy'])\n",
    "plt.title('model accuracy')\n",
    "plt.ylabel('accuracy')\n",
    "plt.xlabel('epoch')\n",
    "plt.legend(['train', 'test'], loc='upper left')\n",
    "plt.show()"
   ]
  },
  {
   "cell_type": "code",
   "execution_count": null,
   "metadata": {
    "colab": {
     "base_uri": "https://localhost:8080/",
     "height": 0
    },
    "id": "Gu8e-B52Ehyc",
    "outputId": "38d11b8f-bec6-49c5-c7b8-4f08943de886"
   },
   "outputs": [],
   "source": [
    "# summarize history for loss\n",
    "plt.plot(history.history['loss'])\n",
    "plt.plot(history.history['val_loss'])\n",
    "plt.title('model loss')\n",
    "plt.ylabel('loss')\n",
    "plt.xlabel('epoch')\n",
    "plt.legend(['train', 'test'], loc='upper left')\n",
    "plt.show()"
   ]
  },
  {
   "cell_type": "code",
   "execution_count": null,
   "metadata": {
    "colab": {
     "base_uri": "https://localhost:8080/"
    },
    "id": "T51YGpdWEhyc",
    "outputId": "f0468758-7496-4cbd-b189-d2673975593f"
   },
   "outputs": [],
   "source": [
    "loss, accuracy = model.evaluate(test, verbose=2)\n",
    "print(\"Loss = \", loss)\n",
    "accuracy= accuracy*100\n",
    "print(\"Accuracy = \", accuracy)"
   ]
  },
  {
   "cell_type": "code",
   "execution_count": null,
   "metadata": {
    "colab": {
     "base_uri": "https://localhost:8080/",
     "height": 0
    },
    "id": "NonPvXHGEhyd",
    "outputId": "bfd1aba5-1383-4315-9233-e032e8f9d61f"
   },
   "outputs": [],
   "source": [
    "modelScores=modelScores.append([['VGG19 Image', accuracy]])\n",
    "modelScores"
   ]
  },
  {
   "cell_type": "markdown",
   "metadata": {
    "id": "7P7PiFsKEhyn"
   },
   "source": [
    "# Kepler Data"
   ]
  },
  {
   "cell_type": "code",
   "execution_count": null,
   "metadata": {
    "colab": {
     "base_uri": "https://localhost:8080/"
    },
    "id": "FHT1M9RsEhyn",
    "outputId": "42bc4bb1-3f42-4193-d467-61dc768442b5"
   },
   "outputs": [],
   "source": [
    "X_train, X_test, y_train, y_test = train_test_split(keplerX, keplerY, test_size=0.3, random_state=42)\n",
    "X_train.shape, X_test.shape, y_train.shape, y_test.shape"
   ]
  },
  {
   "cell_type": "markdown",
   "metadata": {
    "id": "9vpIsBmkEhyo"
   },
   "source": [
    "# **CNN**"
   ]
  },
  {
   "cell_type": "code",
   "execution_count": null,
   "metadata": {
    "colab": {
     "base_uri": "https://localhost:8080/"
    },
    "id": "6PWocXwWEhyo",
    "outputId": "f43bef35-5396-4a34-d194-bd3fa247a03a"
   },
   "outputs": [],
   "source": [
    "xtrain = X_train.reshape((X_train.shape[0],X_train.shape[1],1))\n",
    "xtest = X_test.reshape((X_test.shape[0],X_test.shape[1],1))\n",
    "y_train = np.array(y_train)\n",
    "y_test = np.array(y_test)\n",
    "xtrain.shape, xtest.shape, y_train.shape, y_test.shape"
   ]
  },
  {
   "cell_type": "code",
   "execution_count": null,
   "metadata": {
    "colab": {
     "base_uri": "https://localhost:8080/"
    },
    "id": "-U0JbuyeEhyp",
    "outputId": "249e87ed-aaf4-422c-e40e-704582a72216",
    "scrolled": true
   },
   "outputs": [],
   "source": [
    "cnnmodel = Sequential()\n",
    "cnnmodel.add(Conv1D(input_shape = (xtrain.shape[1],1), filters = 256, kernel_size = 3, padding = \"same\", activation = \"tanh\"))\n",
    "cnnmodel.add(Flatten())\n",
    "cnnmodel.add(Dense(units = 256, activation = \"tanh\"))\n",
    "cnnmodel.add(Dense(units = 128, activation = \"tanh\"))\n",
    "cnnmodel.add(Dense(units = 4, activation = \"sigmoid\"))\n",
    "cnnmodel.compile(optimizer = 'adam', loss= keras.losses.sparse_categorical_crossentropy, metrics = ['accuracy'])\n",
    "cnnmodel.summary()"
   ]
  },
  {
   "cell_type": "code",
   "execution_count": null,
   "metadata": {
    "colab": {
     "base_uri": "https://localhost:8080/"
    },
    "id": "nSCAzOToEhyr",
    "outputId": "3d81d702-a6cd-4d6f-a14d-77851a5f3239"
   },
   "outputs": [],
   "source": [
    "history = cnnmodel.fit(xtrain, y_train, validation_data= (xtest, y_test), epochs=20)"
   ]
  },
  {
   "cell_type": "code",
   "execution_count": null,
   "metadata": {
    "colab": {
     "base_uri": "https://localhost:8080/",
     "height": 0
    },
    "id": "R9JVQUnQEhys",
    "outputId": "32775f4d-f1b7-4ded-87a3-baa5f2f4e792"
   },
   "outputs": [],
   "source": [
    "# summarize history for accuracy\n",
    "plt.plot(history.history['accuracy'])\n",
    "plt.plot(history.history['val_accuracy'])\n",
    "plt.title('model accuracy')\n",
    "plt.ylabel('accuracy')\n",
    "plt.xlabel('epoch')\n",
    "plt.legend(['train', 'test'], loc='upper left')\n",
    "plt.show()"
   ]
  },
  {
   "cell_type": "code",
   "execution_count": null,
   "metadata": {
    "colab": {
     "base_uri": "https://localhost:8080/",
     "height": 0
    },
    "id": "sUzjSMF2Ehys",
    "outputId": "f7672e65-028a-43e5-c414-37a919ae3c5c"
   },
   "outputs": [],
   "source": [
    "# summarize history for loss\n",
    "plt.plot(history.history['loss'])\n",
    "plt.plot(history.history['val_loss'])\n",
    "plt.title('model loss')\n",
    "plt.ylabel('loss')\n",
    "plt.xlabel('epoch')\n",
    "plt.legend(['train', 'test'], loc='upper left')\n",
    "plt.show()"
   ]
  },
  {
   "cell_type": "code",
   "execution_count": null,
   "metadata": {
    "colab": {
     "base_uri": "https://localhost:8080/"
    },
    "id": "HvIeSS1UEhyt",
    "outputId": "093361ed-cc6b-488b-a384-09a045665e0b"
   },
   "outputs": [],
   "source": [
    "loss, accuracy = cnnmodel.evaluate(xtest, y_test, verbose=2)\n",
    "print(\"Loss = \", loss)\n",
    "accuracy= accuracy*100\n",
    "print(\"Accuracy = \", accuracy)"
   ]
  },
  {
   "cell_type": "code",
   "execution_count": null,
   "metadata": {
    "colab": {
     "base_uri": "https://localhost:8080/",
     "height": 0
    },
    "id": "2HRQetRGEhyt",
    "outputId": "586f02c4-6ee2-4115-c0c5-f16767ba75b8"
   },
   "outputs": [],
   "source": [
    "modelScores=modelScores.append([['CNN Kepler', accuracy]])\n",
    "modelScores"
   ]
  },
  {
   "cell_type": "markdown",
   "metadata": {
    "id": "Yxy8y_P7Ehyu"
   },
   "source": [
    "# SVM"
   ]
  },
  {
   "cell_type": "code",
   "execution_count": null,
   "metadata": {
    "id": "Dz9sH2JHEhyu"
   },
   "outputs": [],
   "source": [
    "svm = SVC(kernel='linear', C=0.5, gamma=6)"
   ]
  },
  {
   "cell_type": "code",
   "execution_count": null,
   "metadata": {
    "colab": {
     "base_uri": "https://localhost:8080/",
     "height": 74
    },
    "id": "cgQow7hKEhyv",
    "outputId": "2c2c4bb4-9e1b-48c1-cd4f-f55514f11749"
   },
   "outputs": [],
   "source": [
    "svm.fit(X_train, y_train)"
   ]
  },
  {
   "cell_type": "code",
   "execution_count": null,
   "metadata": {
    "id": "FME-oPEjEhyv"
   },
   "outputs": [],
   "source": [
    "pred = svm.predict(X_test)"
   ]
  },
  {
   "cell_type": "code",
   "execution_count": null,
   "metadata": {
    "colab": {
     "base_uri": "https://localhost:8080/"
    },
    "id": "AE4BlYyfEhyw",
    "outputId": "72be964f-4ade-4caf-ea48-085757ffea60"
   },
   "outputs": [],
   "source": [
    "accuracy= np.round(accuracy_score(y_test, pred)*100,0)\n",
    "print(\"Accuracy = \", accuracy)"
   ]
  },
  {
   "cell_type": "code",
   "execution_count": null,
   "metadata": {
    "colab": {
     "base_uri": "https://localhost:8080/",
     "height": 206
    },
    "id": "5R5EU5LgEhyw",
    "outputId": "87585b55-e299-4df5-c63e-c6d50405787e"
   },
   "outputs": [],
   "source": [
    "modelScores=modelScores.append([['SVM Kepler', accuracy]])\n",
    "modelScores"
   ]
  },
  {
   "cell_type": "markdown",
   "metadata": {
    "id": "9pb8Xvc3Ehy0"
   },
   "source": [
    "# **Random Forest Classifier**"
   ]
  },
  {
   "cell_type": "code",
   "execution_count": null,
   "metadata": {
    "id": "4hvzJwz4Ehy0"
   },
   "outputs": [],
   "source": [
    "rf = RandomForestClassifier(criterion='entropy', min_samples_split=100)"
   ]
  },
  {
   "cell_type": "code",
   "execution_count": null,
   "metadata": {
    "colab": {
     "base_uri": "https://localhost:8080/",
     "height": 74
    },
    "id": "0rDItKxVEhy1",
    "outputId": "5f1c5422-6925-4467-ffff-64a0101ece5f"
   },
   "outputs": [],
   "source": [
    "rf.fit(X_train, y_train)"
   ]
  },
  {
   "cell_type": "code",
   "execution_count": null,
   "metadata": {
    "id": "9C3RX1nQEhy1"
   },
   "outputs": [],
   "source": [
    "pred = rf.predict(X_test)"
   ]
  },
  {
   "cell_type": "code",
   "execution_count": null,
   "metadata": {
    "colab": {
     "base_uri": "https://localhost:8080/"
    },
    "id": "rZvy5OwOEhy2",
    "outputId": "7c926245-5bdd-401d-aff0-9bb1067e29cd"
   },
   "outputs": [],
   "source": [
    "accuracy= np.round(accuracy_score(y_test, pred)*100,0)\n",
    "print(\"Accuracy = \", accuracy)"
   ]
  },
  {
   "cell_type": "code",
   "execution_count": null,
   "metadata": {
    "colab": {
     "base_uri": "https://localhost:8080/",
     "height": 237
    },
    "id": "py3dlobcEhy2",
    "outputId": "457146cf-1431-4d58-fb45-d08817164a90"
   },
   "outputs": [],
   "source": [
    "modelScores=modelScores.append([['Random Forest Trees Kepler', accuracy]])\n",
    "modelScores"
   ]
  },
  {
   "cell_type": "markdown",
   "metadata": {
    "id": "TobatgQcEhyx"
   },
   "source": [
    "# **Stacking Classifier**"
   ]
  },
  {
   "cell_type": "code",
   "execution_count": null,
   "metadata": {
    "id": "JhOudf_bEhyx"
   },
   "outputs": [],
   "source": [
    "estimators = [('rf', rf),  ('svc', make_pipeline(sc, svm))]\n",
    "model = StackingClassifier(estimators=estimators, final_estimator=LogisticRegression() )"
   ]
  },
  {
   "cell_type": "code",
   "execution_count": null,
   "metadata": {
    "colab": {
     "base_uri": "https://localhost:8080/",
     "height": 197
    },
    "id": "pqmgoX3ZEhyy",
    "outputId": "70cd5ebd-ffdb-4fb3-c563-3f3dc2a4eabf"
   },
   "outputs": [],
   "source": [
    "model.fit(X_train, y_train)"
   ]
  },
  {
   "cell_type": "code",
   "execution_count": null,
   "metadata": {
    "id": "nMGdGBSDEhyy"
   },
   "outputs": [],
   "source": [
    "pred = model.predict(X_test)"
   ]
  },
  {
   "cell_type": "code",
   "execution_count": null,
   "metadata": {
    "colab": {
     "base_uri": "https://localhost:8080/"
    },
    "id": "EoM2eEliEhyz",
    "outputId": "eaf1e83a-a7b9-49a4-ede9-5025b6457670"
   },
   "outputs": [],
   "source": [
    "accuracy= np.round(accuracy_score(y_test, pred)*100,0)\n",
    "print(\"Accuracy = \", accuracy)"
   ]
  },
  {
   "cell_type": "code",
   "execution_count": null,
   "metadata": {
    "colab": {
     "base_uri": "https://localhost:8080/",
     "height": 269
    },
    "id": "o9uMSw5bEhyz",
    "outputId": "3c02e092-fbad-4b23-a37f-6af4d3552787"
   },
   "outputs": [],
   "source": [
    "modelScores=modelScores.append([['Stacking Kepler', accuracy]])\n",
    "modelScores"
   ]
  },
  {
   "cell_type": "markdown",
   "metadata": {
    "id": "6eMN8x-xEhy2"
   },
   "source": [
    "# Comparitive Analysis"
   ]
  },
  {
   "cell_type": "code",
   "execution_count": null,
   "metadata": {
    "colab": {
     "base_uri": "https://localhost:8080/",
     "height": 269
    },
    "id": "rPysetf8Ehy3",
    "outputId": "baec4777-3e0a-460b-a27b-b1575f6fa198"
   },
   "outputs": [],
   "source": [
    "modelScores.columns = ['Model', 'Accuracy']\n",
    "modelScores.sort_values(by= 'Accuracy', ascending=False)"
   ]
  },
  {
   "cell_type": "code",
   "execution_count": null,
   "metadata": {
    "colab": {
     "base_uri": "https://localhost:8080/",
     "height": 903
    },
    "id": "3n6B6LVfEhy3",
    "outputId": "dcd89939-499d-4888-aa6b-4a38d121f99a"
   },
   "outputs": [],
   "source": [
    "plt.figure(figsize=(10,8))\n",
    "plt.plot(modelScores['Model'], modelScores['Accuracy'])\n",
    "plt.bar(modelScores['Model'], modelScores['Accuracy'])\n",
    "plt.xticks(rotation=55)\n",
    "plt.xlabel('Models')\n",
    "plt.ylabel('Accuracy Scores')"
   ]
  },
  {
   "cell_type": "code",
   "execution_count": null,
   "metadata": {
    "id": "uQRdJZwZEhy4"
   },
   "outputs": [],
   "source": []
  }
 ],
 "metadata": {
  "accelerator": "TPU",
  "colab": {
   "collapsed_sections": [
    "a2FWvXZV_q7s",
    "f_8rW31DVE5u",
    "5as6g5sgEhxN",
    "7ERzz0BZEhxR",
    "0Zq3TN-UEhxz",
    "G8yI-fQdyQGY",
    "axsp8vw2-DC4",
    "Qh2TTL70EhyD",
    "mN-zryTZEhyH",
    "7P7PiFsKEhyn",
    "9vpIsBmkEhyo",
    "Yxy8y_P7Ehyu",
    "9pb8Xvc3Ehy0"
   ],
   "machine_shape": "hm",
   "provenance": []
  },
  "kernelspec": {
   "display_name": "Python 3 (ipykernel)",
   "language": "python",
   "name": "python3"
  },
  "language_info": {
   "codemirror_mode": {
    "name": "ipython",
    "version": 3
   },
   "file_extension": ".py",
   "mimetype": "text/x-python",
   "name": "python",
   "nbconvert_exporter": "python",
   "pygments_lexer": "ipython3",
   "version": "3.11.3"
  }
 },
 "nbformat": 4,
 "nbformat_minor": 1
}
